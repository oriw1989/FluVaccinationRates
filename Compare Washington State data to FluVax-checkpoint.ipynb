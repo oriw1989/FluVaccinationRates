{
 "cells": [
  {
   "cell_type": "code",
   "execution_count": 7,
   "metadata": {},
   "outputs": [
    {
     "name": "stdout",
     "output_type": "stream",
     "text": [
      "      month   stats          race_or_age state_or_region   value       year\n",
      "46585   Jul     avg  6 months - 17 years      Washington     1.5  2015-2016\n",
      "46586   Jul      LL  6 months - 17 years      Washington     0.8  2015-2016\n",
      "46587   Jul      UL  6 months - 17 years      Washington     2.2  2015-2016\n",
      "46588   Jul      CI  6 months - 17 years      Washington  (±0.7)  2015-2016\n",
      "46589   Jul  SAMPLE  6 months - 17 years      Washington    2428  2015-2016\n",
      "       month   stats          race_or_age state_or_region   value       year\n",
      "296021   May     avg  6 months - 17 years      Washington    57.3  2013-2014\n",
      "296022   May      LL  6 months - 17 years      Washington    53.1  2013-2014\n",
      "296023   May      UL  6 months - 17 years      Washington    61.5  2013-2014\n",
      "296024   May      CI  6 months - 17 years      Washington  (±4.2)  2013-2014\n",
      "296025   May  SAMPLE  6 months - 17 years      Washington    1926  2013-2014\n",
      "['2015-2016' '2016-2017' '2017-2018' '2014-2015' '2013-2014']\n",
      "['2015-2016' '2016-2017' '2017-2018' '2014-2015' '2013-2014']\n",
      "    Age Group     Geo Type                Indicator  Rate  Time Vaccine  \\\n",
      "0  6mo-17 yrs         King  Child Influenza Vaccine  25.6  2015  1+ Flu   \n",
      "1  6mo-17 yrs      Whitman  Child Influenza Vaccine  23.9  2015  1+ Flu   \n",
      "2  6mo-17 yrs      Douglas  Child Influenza Vaccine  23.5  2015  1+ Flu   \n",
      "3  6mo-17 yrs       Chelan  Child Influenza Vaccine  22.5  2015  1+ Flu   \n",
      "4  6mo-17 yrs  Walla Walla  Child Influenza Vaccine  22.4  2015  1+ Flu   \n",
      "\n",
      "  ATTR(Suppressed)  Latitude (generated)  Longitude (generated)  SUM(Count)  \\\n",
      "0               No                47.473               -121.803      131763   \n",
      "1               No                46.978               -117.644        2036   \n",
      "2               No                47.718               -119.634        2411   \n",
      "3               No                47.819               -120.520        4753   \n",
      "4               No                46.285               -118.516        3039   \n",
      "\n",
      "   SUM(LB)  SUM(Population)  SUM(UB)  Year (Oct-Dec)  \n",
      "0     25.5           513966     25.8            2015  \n",
      "1     23.0             8525     24.8            2015  \n",
      "2     22.7            10266     24.3            2015  \n",
      "3     22.0            21109     23.1            2015  \n",
      "4     21.7            13548     23.1            2015  \n"
     ]
    }
   ],
   "source": [
    "import pandas as pd\n",
    "fluvaxdata=pd.read_csv('/Users/mac/Documents/sample data science projects/CDC Hackathon/2013-2018_consolidated_flu_data.csv')\n",
    "fluvaxdata=fluvaxdata.drop(['Unnamed: 0'],axis=1)\n",
    "fluvaxdata=fluvaxdata[fluvaxdata['state_or_region']=='Washington']\n",
    "fluvaxdata=fluvaxdata[fluvaxdata['race_or_age']=='6 months - 17 years']\n",
    "print(fluvaxdata.head())\n",
    "print(fluvaxdata.tail())\n",
    "print(fluvaxdata['year'].unique())\n",
    "fluvaxdata_avg=fluvaxdata[fluvaxdata['stats']=='avg']\n",
    "print(fluvaxdata_avg['year'].unique())\n",
    "\n",
    "WAchilddata=pd.read_csv('/Users/mac/Documents/sample data science projects/CDC Hackathon/Washington State Immunization HEDIS.csv')\n",
    "print(WAchilddata.head())"
   ]
  },
  {
   "cell_type": "code",
   "execution_count": 9,
   "metadata": {},
   "outputs": [
    {
     "data": {
      "text/html": [
       "<div>\n",
       "<style scoped>\n",
       "    .dataframe tbody tr th:only-of-type {\n",
       "        vertical-align: middle;\n",
       "    }\n",
       "\n",
       "    .dataframe tbody tr th {\n",
       "        vertical-align: top;\n",
       "    }\n",
       "\n",
       "    .dataframe thead th {\n",
       "        text-align: right;\n",
       "    }\n",
       "</style>\n",
       "<table border=\"1\" class=\"dataframe\">\n",
       "  <thead>\n",
       "    <tr style=\"text-align: right;\">\n",
       "      <th></th>\n",
       "      <th>month</th>\n",
       "      <th>stats</th>\n",
       "      <th>race_or_age</th>\n",
       "      <th>state_or_region</th>\n",
       "      <th>value</th>\n",
       "      <th>year</th>\n",
       "    </tr>\n",
       "  </thead>\n",
       "  <tbody>\n",
       "    <tr>\n",
       "      <th>46585</th>\n",
       "      <td>Jul</td>\n",
       "      <td>avg</td>\n",
       "      <td>6 months - 17 years</td>\n",
       "      <td>Washington</td>\n",
       "      <td>1.5</td>\n",
       "      <td>2015-2016</td>\n",
       "    </tr>\n",
       "    <tr>\n",
       "      <th>46590</th>\n",
       "      <td>Aug</td>\n",
       "      <td>avg</td>\n",
       "      <td>6 months - 17 years</td>\n",
       "      <td>Washington</td>\n",
       "      <td>4.7</td>\n",
       "      <td>2015-2016</td>\n",
       "    </tr>\n",
       "    <tr>\n",
       "      <th>46595</th>\n",
       "      <td>Sep</td>\n",
       "      <td>avg</td>\n",
       "      <td>6 months - 17 years</td>\n",
       "      <td>Washington</td>\n",
       "      <td>14.4</td>\n",
       "      <td>2015-2016</td>\n",
       "    </tr>\n",
       "    <tr>\n",
       "      <th>46600</th>\n",
       "      <td>Oct</td>\n",
       "      <td>avg</td>\n",
       "      <td>6 months - 17 years</td>\n",
       "      <td>Washington</td>\n",
       "      <td>34.3</td>\n",
       "      <td>2015-2016</td>\n",
       "    </tr>\n",
       "    <tr>\n",
       "      <th>46605</th>\n",
       "      <td>Nov</td>\n",
       "      <td>avg</td>\n",
       "      <td>6 months - 17 years</td>\n",
       "      <td>Washington</td>\n",
       "      <td>47.5</td>\n",
       "      <td>2015-2016</td>\n",
       "    </tr>\n",
       "  </tbody>\n",
       "</table>\n",
       "</div>"
      ],
      "text/plain": [
       "      month stats          race_or_age state_or_region value       year\n",
       "46585   Jul   avg  6 months - 17 years      Washington   1.5  2015-2016\n",
       "46590   Aug   avg  6 months - 17 years      Washington   4.7  2015-2016\n",
       "46595   Sep   avg  6 months - 17 years      Washington  14.4  2015-2016\n",
       "46600   Oct   avg  6 months - 17 years      Washington  34.3  2015-2016\n",
       "46605   Nov   avg  6 months - 17 years      Washington  47.5  2015-2016"
      ]
     },
     "execution_count": 9,
     "metadata": {},
     "output_type": "execute_result"
    }
   ],
   "source": [
    "fluvaxdata_avg.head()"
   ]
  },
  {
   "cell_type": "code",
   "execution_count": 4,
   "metadata": {},
   "outputs": [],
   "source": [
    "131763/513966\n",
    "fluvaxdata_avg.isna().sum()\n",
    "fluvaxdata_avg=fluvaxdata_avg.dropna()"
   ]
  },
  {
   "cell_type": "code",
   "execution_count": 18,
   "metadata": {},
   "outputs": [
    {
     "name": "stdout",
     "output_type": "stream",
     "text": [
      "Index(['month', 'stats', 'race_or_age', 'state_or_region', 'value', 'year'], dtype='object')\n",
      "Index(['month', 'stats', 'race_or_age', 'state_or_region', 'value', 'year'], dtype='object')\n"
     ]
    }
   ],
   "source": [
    "print(fluvaxdata.columns)\n",
    "print(fluvaxdata_avg.columns)"
   ]
  },
  {
   "cell_type": "code",
   "execution_count": 18,
   "metadata": {},
   "outputs": [],
   "source": [
    "fluvaxdata_avg.iloc[[44]]\n",
    "fluvaxdata_avg=fluvaxdata_avg.drop(fluvaxdata_avg.index[[44]])"
   ]
  },
  {
   "cell_type": "code",
   "execution_count": 21,
   "metadata": {},
   "outputs": [
    {
     "name": "stdout",
     "output_type": "stream",
     "text": [
      "['2015-2016' '2016-2017' '2017-2018' '2014-2015' '2013-2014']\n",
      "month               object\n",
      "stats               object\n",
      "race_or_age         object\n",
      "state_or_region     object\n",
      "value              float64\n",
      "year                object\n",
      "Mo                   int64\n",
      "Year                 int64\n",
      "Percent            float64\n",
      "dtype: object\n"
     ]
    }
   ],
   "source": [
    "#Plot trends against time\n",
    "import pandas as pd\n",
    "import matplotlib.pyplot as plt\n",
    "import numpy as np\n",
    "import calendar\n",
    "d=dict((v,k) for k,v in enumerate(calendar.month_abbr))\n",
    "print(fluvaxdata_avg['year'].unique())\n",
    "def map_values(row, values_dict):\n",
    "    return values_dict[row]\n",
    "fluvaxdata_avg['Mo'] = fluvaxdata_avg['month'].apply(map_values, args = (d,))\n",
    "conditions = [\n",
    "    (fluvaxdata_avg['year'] == '2014-2015'),\n",
    "    (fluvaxdata_avg['year'] == '2015-2016'),\n",
    "    (fluvaxdata_avg['year'] == '2016-2017'),\n",
    "    (fluvaxdata_avg['year'] == '2017-2018')]\n",
    "choices = [2014,2015, 2016,2017]\n",
    "fluvaxdata_avg['Year'] = np.select(conditions, choices, default=2013)\n",
    "fluvaxdata_avg['Year'] = pd.to_numeric(fluvaxdata_avg['Year'])\n",
    "fluvaxdata_avg['Percent'] = pd.to_numeric(fluvaxdata_avg['value'])\n",
    "\n",
    "\n",
    "print(fluvaxdata_avg.dtypes)"
   ]
  },
  {
   "cell_type": "code",
   "execution_count": 26,
   "metadata": {},
   "outputs": [
    {
     "name": "stdout",
     "output_type": "stream",
     "text": [
      " \n"
     ]
    },
    {
     "data": {
      "image/png": "[encoded data removed]",
      "text/plain": [
       "<Figure size 432x288 with 2 Axes>"
      ]
     },
     "metadata": {},
     "output_type": "display_data"
    },
    {
     "data": {
      "image/png": "[encoded data removed]",
      "text/plain": [
       "<Figure size 277.375x360 with 1 Axes>"
      ]
     },
     "metadata": {},
     "output_type": "display_data"
    }
   ],
   "source": [
    "ax2 = fluvaxdata_avg.plot.scatter(x='Mo',\n",
    "                       y='Percent',\n",
    "                       c='Year', \n",
    "                       colormap='viridis')\n",
    "print(\" \")\n",
    "#fig1 = plt.figure(1)\n",
    "#ax1 = fig1.add_subplot(111)\n",
    "#ax1.scatter(fluvaxdata_avg['Mo'], fluvaxdata_avg['Percent'], marker = 'o', c = fluvaxdata_avg['Year'], alpha = 1,cmap='viridis')\n",
    "ax2.set_title('Vaccine coverage >6mo-17yrs WA, FluVaxView')\n",
    "ax2.set_xlabel('Month')\n",
    "#ax1.set_ylabel('Percent')\n",
    "#ax1.spines['top'].set_visible(False)\n",
    "#ax1.spines['right'].set_visible(False)\n",
    "plt.show()\n",
    "\n",
    "import seaborn as sns\n",
    "sns.catplot(x='Mo', y='Percent', hue='Year',\n",
    "             aspect=.6,\n",
    "            kind=\"swarm\", data=fluvaxdata_avg);\n",
    "\n",
    "#sns.scatterplot(fluvaxdata_avg['Mo'],fluvaxdata_avg['value'],fluvaxdata_avg['year'])"
   ]
  },
  {
   "cell_type": "code",
   "execution_count": 23,
   "metadata": {},
   "outputs": [
    {
     "name": "stdout",
     "output_type": "stream",
     "text": [
      "                SUM(Count)  SUM(Population)\n",
      "Year (Oct-Dec)                             \n",
      "2015                382095          1827821\n",
      "2016                390059          1723422\n",
      "2017                374303          1792632\n"
     ]
    },
    {
     "data": {
      "image/png": "[encoded data removed]",
      "text/plain": [
       "<Figure size 432x288 with 1 Axes>"
      ]
     },
     "metadata": {},
     "output_type": "display_data"
    }
   ],
   "source": [
    "#Washington state data\n",
    "#First compute weighted average of vaccinations across counties\n",
    "table = pd.pivot_table(WAchilddata, values=['SUM(Count)','SUM(Population)'], index=['Year (Oct-Dec)'], aggfunc=np.sum)\n",
    "print(table)\n",
    "table=table.reset_index()\n",
    "table['final']=table['SUM(Count)']/table['SUM(Population)']\n",
    "#Then make similar plot\n",
    "ax1 = table.plot.scatter(x='Year (Oct-Dec)',\n",
    "                       y='final')\n"
   ]
  },
  {
   "cell_type": "code",
   "execution_count": 25,
   "metadata": {},
   "outputs": [
    {
     "name": "stdout",
     "output_type": "stream",
     "text": [
      "      month stats          race_or_age state_or_region  value       year  Mo  \\\n",
      "46585   Jul   avg  6 months - 17 years      Washington    1.5  2015-2016   7   \n",
      "46590   Aug   avg  6 months - 17 years      Washington    4.7  2015-2016   8   \n",
      "46595   Sep   avg  6 months - 17 years      Washington   14.4  2015-2016   9   \n",
      "46600   Oct   avg  6 months - 17 years      Washington   34.3  2015-2016  10   \n",
      "46605   Nov   avg  6 months - 17 years      Washington   47.5  2015-2016  11   \n",
      "\n",
      "       Year  Percent  \n",
      "46585  2015      1.5  \n",
      "46590  2015      4.7  \n",
      "46595  2015     14.4  \n",
      "46600  2015     34.3  \n",
      "46605  2015     47.5  \n"
     ]
    },
    {
     "data": {
      "image/png": "[encoded data removed]",
      "text/plain": [
       "<Figure size 432x288 with 1 Axes>"
      ]
     },
     "metadata": {},
     "output_type": "display_data"
    }
   ],
   "source": [
    "print(fluvaxdata_avg.head())\n",
    "dif2017=float(fluvaxdata_avg[(fluvaxdata_avg['year']=='2017-2018') &(fluvaxdata_avg['month']=='Dec')]['value'])-float(fluvaxdata_avg[(fluvaxdata_avg['year']=='2017-2018') &(fluvaxdata_avg['month']=='Sep')]['value'])\n",
    "dif2016=float(fluvaxdata_avg[(fluvaxdata_avg['year']=='2016-2017') &(fluvaxdata_avg['month']=='Dec')]['value'])-float(fluvaxdata_avg[(fluvaxdata_avg['year']=='2016-2017') &(fluvaxdata_avg['month']=='Sep')]['value'])\n",
    "dif2015=float(fluvaxdata_avg[(fluvaxdata_avg['year']=='2015-2016') &(fluvaxdata_avg['month']=='Dec')]['value'])-float(fluvaxdata_avg[(fluvaxdata_avg['year']=='2015-2016') &(fluvaxdata_avg['month']=='Sep')]['value'])\n",
    "d={'Year (Oct-Dec)':[2015,2016,2017],'final':[dif2015/100,dif2016/100,dif2017/100]}\n",
    "tableref=pd.DataFrame(data=d)\n",
    "from matplotlib.ticker import MaxNLocator\n",
    "from matplotlib.ticker import FormatStrFormatter\n",
    "\n",
    "ax1 = table.plot(kind='scatter',x='Year (Oct-Dec)', y='final',color='blue',label='WA State Immunization Registry')\n",
    "tableref.plot(kind='scatter',x='Year (Oct-Dec)', y='final', color='red',label='FluVaxView',ax=ax1)\n",
    "ax1.set_ylabel(\"Percent Vaccinated\")\n",
    "ax1.xaxis.set_major_locator(MaxNLocator(integer=True))\n",
    "ax1.yaxis.set_major_locator(MaxNLocator(integer=True))\n",
    "ax1.yaxis.set_major_formatter(FormatStrFormatter('%.2f'))\n",
    "ax1.set_ylim([0.2,0.45])\n",
    "ax1.set_title('Flu vaccinations between Oct and Dec, Children >6mo-17yrs, WA')\n",
    "ax1.legend(bbox_to_anchor=(0.01, .99), loc=2, borderaxespad=0.)\n",
    "plt.savefig('testplot.png')\n",
    "plt.show()\n",
    "#plt.savefig('testplot.png')"
   ]
  },
  {
   "cell_type": "markdown",
   "metadata": {},
   "source": [
    "The Washington data is definitely an additional data source to the FluVax data, but there are not enough observations available to create a model to predict the FluVax rate from the Washington county level rates.  This data could be useful to the CDC if states like Washington have data for more years prior to 2015 in their immunization registries or if the states continue to collect this data in the future.\n",
    "\n",
    "Pretty much every state keeps an immunization registry.  The state immunization registries describe (at least in Washington) vaccinations that occurred at medical providers and likely have systemmatic error (leave out immunizations from other sources).  Data with systemmatic errors can still be useful for modeling if you can understand the pathway creating the error."
   ]
  },
  {
   "cell_type": "code",
   "execution_count": null,
   "metadata": {},
   "outputs": [],
   "source": []
  }
 ],
 "metadata": {
  "kernelspec": {
   "display_name": "Python 3",
   "language": "python",
   "name": "python3"
  },
  "language_info": {
   "codemirror_mode": {
    "name": "ipython",
    "version": 3
   },
   "file_extension": ".py",
   "mimetype": "text/x-python",
   "name": "python",
   "nbconvert_exporter": "python",
   "pygments_lexer": "ipython3",
   "version": "3.6.5"
  }
 },
 "nbformat": 4,
 "nbformat_minor": 2
}
